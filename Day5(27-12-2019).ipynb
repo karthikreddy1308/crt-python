{
 "cells": [
  {
   "cell_type": "code",
   "execution_count": 10,
   "metadata": {},
   "outputs": [
    {
     "name": "stdout",
     "output_type": "stream",
     "text": [
      "9\n",
      "45\n"
     ]
    }
   ],
   "source": [
    "#count no of digits and print the sum of digits\n",
    "n=\"python123is456good789\"\n",
    "count=0\n",
    "i=0\n",
    "sum=0\n",
    "while i<len(n):\n",
    "    if n[i].isdigit():\n",
    "        count=count+1\n",
    "        sum+=int(n[i])\n",
    "    i+=1\n",
    "print(count)\n",
    "print(sum)\n"
   ]
  },
  {
   "cell_type": "code",
   "execution_count": 20,
   "metadata": {},
   "outputs": [
    {
     "name": "stdout",
     "output_type": "stream",
     "text": [
      "enter a number3\n",
      "1 3 "
     ]
    }
   ],
   "source": [
    "#for loop \n",
    "#can be used\n",
    "#1.using  range()\n",
    "#2.using iterable object\n",
    "n=int(input(\"enter a number\"))\n",
    "for i in range(1,n+1,2):\n",
    "    print(i,end=\" \")"
   ]
  },
  {
   "cell_type": "code",
   "execution_count": 25,
   "metadata": {},
   "outputs": [
    {
     "name": "stdout",
     "output_type": "stream",
     "text": [
      "enter a stringpython\n",
      "p y t h o n "
     ]
    }
   ],
   "source": [
    "n=input(\"enter a string\")\n",
    "i=0\n",
    "while i<len(n):\n",
    " print(n[i],end=\" \")\n",
    " i=i+1"
   ]
  },
  {
   "cell_type": "code",
   "execution_count": 26,
   "metadata": {},
   "outputs": [
    {
     "name": "stdout",
     "output_type": "stream",
     "text": [
      "enter a stringering\n",
      "e r i n g "
     ]
    }
   ],
   "source": [
    "n=input(\"enter a string\")\n",
    "i=0;\n",
    "for i in range(0,len(n)):\n",
    "    print(n[i],end=\" \")\n",
    "    "
   ]
  },
  {
   "cell_type": "code",
   "execution_count": 29,
   "metadata": {},
   "outputs": [
    {
     "name": "stdout",
     "output_type": "stream",
     "text": [
      "enter a stringpython\n",
      "p y t h o n "
     ]
    }
   ],
   "source": [
    "n=input(\"enter a string\")\n",
    "i=0\n",
    "for i in n:\n",
    " print(i,end=\" \")\n"
   ]
  },
  {
   "cell_type": "markdown",
   "metadata": {},
   "source": [
    "## collection type data type:\n",
    "### list\n",
    "1. for creating a list use []\n",
    "2. list are mutable\n",
    "3. list are marked\n",
    "4. list are ordered\n",
    "5. list allows duplicate values\n",
    "6. it stores heterogenous values"
   ]
  },
  {
   "cell_type": "code",
   "execution_count": 37,
   "metadata": {},
   "outputs": [
    {
     "name": "stdout",
     "output_type": "stream",
     "text": [
      "[1, 2, 3]\n",
      "[456, 56]\n",
      "gnirts\n",
      "3\n",
      "8\n"
     ]
    }
   ],
   "source": [
    "list1=[23,34,456,56,67,\"string\",True,[1,2,3]]\n",
    "print(list1[-1])\n",
    "print(list1[2:4])\n",
    "print(list1[-3][::-1])\n",
    "print(list1[-1][-1])\n",
    "print(len(list1))"
   ]
  },
  {
   "cell_type": "code",
   "execution_count": 38,
   "metadata": {},
   "outputs": [
    {
     "name": "stdout",
     "output_type": "stream",
     "text": [
      "before adding elements: [34, 45, 67, 9]\n",
      "after adding elements: [34, 45, 67, 9, 100, 200, 300]\n"
     ]
    }
   ],
   "source": [
    "#manipulating a list\n",
    "#1. adding elements \n",
    "#at the last\n",
    "list1=[34,45,67,9]\n",
    "print(\"before adding elements:\",list1)\n",
    "list1.append(100)\n",
    "list1.append(200)\n",
    "list1.append(300)\n",
    "print(\"after adding elements:\",list1)"
   ]
  },
  {
   "cell_type": "code",
   "execution_count": 41,
   "metadata": {},
   "outputs": [
    {
     "data": {
      "text/plain": [
       "[34, 400, 45, 400, 400, 67, 9, 100, 200, 300]"
      ]
     },
     "execution_count": 41,
     "metadata": {},
     "output_type": "execute_result"
    }
   ],
   "source": [
    "#in between the list\n",
    "list1.insert(1,400)\n",
    "list1\n"
   ]
  },
  {
   "cell_type": "code",
   "execution_count": 44,
   "metadata": {},
   "outputs": [
    {
     "data": {
      "text/plain": [
       "[34, 400, 45, 400, 400, 67, 9, 100, 200, 300, 2, 3, 4, 2, 3, 4]"
      ]
     },
     "execution_count": 44,
     "metadata": {},
     "output_type": "execute_result"
    }
   ],
   "source": [
    "#extend to insert multiple values inside a list\n",
    "list1.extend([2,3,4])\n",
    "list1"
   ]
  },
  {
   "cell_type": "code",
   "execution_count": 45,
   "metadata": {},
   "outputs": [
    {
     "data": {
      "text/plain": [
       "[34, 400, 45, 400, 400, 67, 9, 100, 200, 300, 2, 3, 4, 2, 3]"
      ]
     },
     "execution_count": 45,
     "metadata": {},
     "output_type": "execute_result"
    }
   ],
   "source": [
    "#pop elements from the list\n",
    "list1.pop()\n",
    "list1"
   ]
  },
  {
   "cell_type": "code",
   "execution_count": 52,
   "metadata": {},
   "outputs": [
    {
     "data": {
      "text/plain": [
       "[34, 400, 100, 300, 3, 4, 2, 3]"
      ]
     },
     "execution_count": 52,
     "metadata": {},
     "output_type": "execute_result"
    }
   ],
   "source": [
    "list1.pop(2)\n",
    "list1"
   ]
  },
  {
   "cell_type": "code",
   "execution_count": 53,
   "metadata": {},
   "outputs": [
    {
     "data": {
      "text/plain": [
       "[34, 400, 100, 3, 4, 2, 3]"
      ]
     },
     "execution_count": 53,
     "metadata": {},
     "output_type": "execute_result"
    }
   ],
   "source": [
    "list1.remove(300)\n",
    "list1"
   ]
  },
  {
   "cell_type": "code",
   "execution_count": 54,
   "metadata": {},
   "outputs": [
    {
     "data": {
      "text/plain": [
       "[]"
      ]
     },
     "execution_count": 54,
     "metadata": {},
     "output_type": "execute_result"
    }
   ],
   "source": [
    "# remove all the elements from the list\n",
    "#clear method()\n",
    "list1.clear()\n",
    "list1"
   ]
  },
  {
   "cell_type": "code",
   "execution_count": 58,
   "metadata": {},
   "outputs": [
    {
     "data": {
      "text/plain": [
       "[1, 2, 90, 4, 100]"
      ]
     },
     "execution_count": 58,
     "metadata": {},
     "output_type": "execute_result"
    }
   ],
   "source": [
    "#replacing an element\n",
    "list1=[1,2,3,4,100]\n",
    "list1[2]=90\n",
    "list1"
   ]
  },
  {
   "cell_type": "code",
   "execution_count": 61,
   "metadata": {},
   "outputs": [
    {
     "data": {
      "text/plain": [
       "[1, 2, 4, 90, 100]"
      ]
     },
     "execution_count": 61,
     "metadata": {},
     "output_type": "execute_result"
    }
   ],
   "source": [
    "#sorting alist\n",
    "list1.sort()\n",
    "list1\n"
   ]
  },
  {
   "cell_type": "code",
   "execution_count": 63,
   "metadata": {},
   "outputs": [
    {
     "data": {
      "text/plain": [
       "[100, 90, 4, 2, 1]"
      ]
     },
     "execution_count": 63,
     "metadata": {},
     "output_type": "execute_result"
    }
   ],
   "source": [
    "#sort the list in descending order\n",
    "list1.sort(reverse=True)#when reverse value is false it will sort in ascending order\n",
    "list1"
   ]
  },
  {
   "cell_type": "code",
   "execution_count": 67,
   "metadata": {},
   "outputs": [
    {
     "data": {
      "text/plain": [
       "1"
      ]
     },
     "execution_count": 67,
     "metadata": {},
     "output_type": "execute_result"
    }
   ],
   "source": [
    "#index of an element in a list\n",
    "list1.index(90)"
   ]
  },
  {
   "cell_type": "code",
   "execution_count": 68,
   "metadata": {},
   "outputs": [
    {
     "data": {
      "text/plain": [
       "1"
      ]
     },
     "execution_count": 68,
     "metadata": {},
     "output_type": "execute_result"
    }
   ],
   "source": [
    "#count() for knowing the frequency of value\n",
    "list1.count(100)"
   ]
  },
  {
   "cell_type": "code",
   "execution_count": 70,
   "metadata": {},
   "outputs": [
    {
     "data": {
      "text/plain": [
       "[100, 90, 4, 2, 1, 'python']"
      ]
     },
     "execution_count": 70,
     "metadata": {},
     "output_type": "execute_result"
    }
   ],
   "source": [
    "list1.append(\"python\")\n",
    "list1"
   ]
  },
  {
   "cell_type": "code",
   "execution_count": 75,
   "metadata": {},
   "outputs": [
    {
     "data": {
      "text/plain": [
       "[100, 90, 4, 2, 1, 'python']"
      ]
     },
     "execution_count": 75,
     "metadata": {},
     "output_type": "execute_result"
    }
   ],
   "source": [
    "#copying a list\n",
    "list2=list1.copy()\n",
    "list2"
   ]
  },
  {
   "cell_type": "code",
   "execution_count": 85,
   "metadata": {},
   "outputs": [
    {
     "name": "stdout",
     "output_type": "stream",
     "text": [
      "[4, 16, 25, 49, 64]\n"
     ]
    }
   ],
   "source": [
    "#print the squares of one list in  another list\n",
    "#input[2,4,5,7,8]\n",
    "#output[4,16,25,49,64]\n",
    "list3= [2,4,5,7,8]\n",
    "list4=[]\n",
    "i=0\n",
    "for i in range(0,len(list3)):\n",
    "  list4.append(list3[i]**2)\n",
    "print(list4)\n",
    "\n"
   ]
  },
  {
   "cell_type": "code",
   "execution_count": 107,
   "metadata": {},
   "outputs": [
    {
     "name": "stdout",
     "output_type": "stream",
     "text": [
      "[2, 4, 56]\n"
     ]
    }
   ],
   "source": [
    "#print only even numbers from a list to another list\n",
    "list5=[2,4,56,9,89]\n",
    "list6=[]\n",
    "i=0\n",
    "for i in range(0,len(list5)):\n",
    "    if list5[i]%2==0:\n",
    "        list6.append(list5[i])\n",
    "print(list6)"
   ]
  },
  {
   "cell_type": "code",
   "execution_count": 123,
   "metadata": {},
   "outputs": [
    {
     "name": "stdout",
     "output_type": "stream",
     "text": [
      "3\n",
      "1\n",
      "2\n",
      "3\n",
      "6\n"
     ]
    }
   ],
   "source": [
    "#create a list and accept values of the list at runtime\n",
    "#and print sum of all elements of the list\n",
    "list7=[]\n",
    "j=0\n",
    "n=int(input())\n",
    "for i in range(n):\n",
    "    list7.append(int(input()))\n",
    "    j=j+list7[i]\n",
    "print(j)\n",
    "\n",
    "                 \n",
    "                 \n",
    "    "
   ]
  },
  {
   "cell_type": "code",
   "execution_count": 121,
   "metadata": {},
   "outputs": [
    {
     "name": "stdout",
     "output_type": "stream",
     "text": [
      "(23, 34, 45, 56, 67)\n",
      "<class 'tuple'>\n"
     ]
    }
   ],
   "source": [
    "x=23,34,45,56,67\n",
    "print(x)\n",
    "print(type(x))"
   ]
  },
  {
   "cell_type": "code",
   "execution_count": 124,
   "metadata": {},
   "outputs": [
    {
     "name": "stdout",
     "output_type": "stream",
     "text": [
      "23 34 5\n"
     ]
    }
   ],
   "source": [
    "tup1=(23,34,5)\n",
    "x,y,z=tup1\n",
    "print(x,y,z)"
   ]
  },
  {
   "cell_type": "markdown",
   "metadata": {},
   "source": [
    "### Dictionary\n",
    "#### syntax: {key1:value1,key2:value2,...}\n",
    "#### key:\n",
    "1. key should be unique\n",
    "2. key should be immutable-->int,float,string,tupple"
   ]
  },
  {
   "cell_type": "code",
   "execution_count": 131,
   "metadata": {},
   "outputs": [
    {
     "data": {
      "text/plain": [
       "{'name': 'preeti', 'course': 'python', 'address': 'hyd', (45, 436): 'num'}"
      ]
     },
     "execution_count": 131,
     "metadata": {},
     "output_type": "execute_result"
    }
   ],
   "source": [
    "dict={\"name\":\"preeti\",\"course\":\"python\",\"address\":\"hyd\",(45,436):\"num\"}\n",
    "dict"
   ]
  },
  {
   "cell_type": "code",
   "execution_count": 132,
   "metadata": {},
   "outputs": [
    {
     "data": {
      "text/plain": [
       "'python'"
      ]
     },
     "execution_count": 132,
     "metadata": {},
     "output_type": "execute_result"
    }
   ],
   "source": [
    "dict['course']"
   ]
  },
  {
   "cell_type": "code",
   "execution_count": 133,
   "metadata": {},
   "outputs": [
    {
     "name": "stdout",
     "output_type": "stream",
     "text": [
      "{'name': 'preeti', 'course': 'c programming', 'address': 'hyd', (45, 436): 'num'}\n"
     ]
    }
   ],
   "source": [
    "#replace values\n",
    "dict[\"course\"]=\"c programming\"\n",
    "print(dict)"
   ]
  },
  {
   "cell_type": "code",
   "execution_count": 134,
   "metadata": {},
   "outputs": [
    {
     "name": "stdout",
     "output_type": "stream",
     "text": [
      "{'name': 'preeti', 'course': 'c programming', 'address': 'hyd', (45, 436): 'num', 'college': 'GITAM'}\n"
     ]
    }
   ],
   "source": [
    "#adding entry\n",
    "dict[\"college\"]=\"GITAM\"\n",
    "print(dict)"
   ]
  },
  {
   "cell_type": "code",
   "execution_count": 135,
   "metadata": {},
   "outputs": [
    {
     "name": "stdout",
     "output_type": "stream",
     "text": [
      "{'name': 'preeti', 'course': 'c programming', (45, 436): 'num', 'college': 'GITAM'}\n"
     ]
    }
   ],
   "source": [
    "#removing entry\n",
    "del dict['address']\n",
    "print(dict)"
   ]
  },
  {
   "cell_type": "markdown",
   "metadata": {},
   "source": [
    "## FUNCTION\n",
    "### def functionname(arg list)\n",
    "####         statements\n",
    "####          return-->(optional)"
   ]
  },
  {
   "cell_type": "code",
   "execution_count": 138,
   "metadata": {},
   "outputs": [
    {
     "name": "stdout",
     "output_type": "stream",
     "text": [
      "30\n"
     ]
    }
   ],
   "source": [
    "def add(x,y):#function definition\n",
    "    return x+y\n",
    "add(10,20)#function calling\n",
    "print(add(10,20))"
   ]
  },
  {
   "cell_type": "code",
   "execution_count": 139,
   "metadata": {
    "scrolled": true
   },
   "outputs": [
    {
     "name": "stdout",
     "output_type": "stream",
     "text": [
      "30\n",
      "500\n"
     ]
    }
   ],
   "source": [
    "def add(x,y):#function definition\n",
    "    return x+y\n",
    "print(add(10,20))\n",
    "print(add(200,300))"
   ]
  },
  {
   "cell_type": "code",
   "execution_count": 140,
   "metadata": {},
   "outputs": [
    {
     "name": "stdout",
     "output_type": "stream",
     "text": [
      "30\n",
      "None\n",
      "500\n",
      "None\n"
     ]
    }
   ],
   "source": [
    "def add(x,y):#function definition\n",
    "    print(x+y)\n",
    "print(add(10,20))\n",
    "print(add(200,300))"
   ]
  },
  {
   "cell_type": "markdown",
   "metadata": {},
   "source": [
    "## def square(x):\n",
    "    return x*x\n",
    "def cube(x):\n",
    "    return square(x)*x\n",
    "print(cube(3))\n"
   ]
  },
  {
   "cell_type": "code",
   "execution_count": 143,
   "metadata": {},
   "outputs": [
    {
     "name": "stdout",
     "output_type": "stream",
     "text": [
      "2\n",
      "3\n",
      "4\n",
      "5\n",
      "6\n",
      "7\n",
      "8\n",
      "9\n",
      "10\n"
     ]
    }
   ],
   "source": [
    "x=2\n",
    "while x<=10:\n",
    "    print(x)\n",
    "    x=x+1"
   ]
  },
  {
   "cell_type": "code",
   "execution_count": 148,
   "metadata": {},
   "outputs": [
    {
     "name": "stdout",
     "output_type": "stream",
     "text": [
      "4\n",
      "3\n",
      "2\n",
      "1\n"
     ]
    }
   ],
   "source": [
    "for i in [1,2,3,4][::-1]:\n",
    "    print(i)"
   ]
  },
  {
   "cell_type": "code",
   "execution_count": null,
   "metadata": {},
   "outputs": [],
   "source": []
  },
  {
   "cell_type": "code",
   "execution_count": null,
   "metadata": {},
   "outputs": [],
   "source": []
  },
  {
   "cell_type": "code",
   "execution_count": null,
   "metadata": {},
   "outputs": [],
   "source": []
  }
 ],
 "metadata": {
  "kernelspec": {
   "display_name": "Python 3",
   "language": "python",
   "name": "python3"
  },
  "language_info": {
   "codemirror_mode": {
    "name": "ipython",
    "version": 3
   },
   "file_extension": ".py",
   "mimetype": "text/x-python",
   "name": "python",
   "nbconvert_exporter": "python",
   "pygments_lexer": "ipython3",
   "version": "3.7.4"
  }
 },
 "nbformat": 4,
 "nbformat_minor": 2
}
